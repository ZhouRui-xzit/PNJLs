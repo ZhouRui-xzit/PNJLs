{
 "cells": [
  {
   "cell_type": "code",
   "execution_count": 5,
   "id": "c37b8c16",
   "metadata": {},
   "outputs": [],
   "source": [
    "include(\"../../src/Finite_Vol/pnjl_FV.jl\")\n",
    "using Plots \n",
    "using LaTeXStrings\n",
    "using DataFrames, CSV"
   ]
  },
  {
   "cell_type": "code",
   "execution_count": 6,
   "id": "8f591ed2",
   "metadata": {},
   "outputs": [
    {
     "name": "stdout",
     "output_type": "stream",
     "text": [
      "res_el:=-33.57031981340026\n",
      "res_sph:=-33.57031981400966\n",
      "diff:=6.093969773246499e-10\n"
     ]
    }
   ],
   "source": [
    "T= 300.0\n",
    "mu_B = 0.0\n",
    "X0 = [-0.01, -0.01, -0.20, 0.8, 0.8]\n",
    "phi = X0[1:3]\n",
    "Phi1 = X0[4]\n",
    "Phi2 = X0[5]\n",
    "R = 1.0\n",
    "a, b ,c = R, R, R\n",
    "\n",
    "ints_el = get_nodes_el(128, a, b, c)\n",
    "ints_sph = get_nodes_sph(128, R)\n",
    "\n",
    "res_el = Omega(phi, Phi1, Phi2, T/hc, mu_B/hc, ints_el)\n",
    "res_sph = Omega(phi, Phi1, Phi2, T/hc, mu_B/hc, ints_sph)\n",
    "\n",
    "println(\"res_el:=\", res_el)\n",
    "println(\"res_sph:=\", res_sph)\n",
    "println(\"diff:=\", res_el - res_sph)\n",
    "#sol = Tmu(T/hc, mu_B/hc, X0, ints)\n",
    "\n",
    "#println(\"sol:=\", sol)"
   ]
  },
  {
   "cell_type": "code",
   "execution_count": 7,
   "id": "bc0d57a0",
   "metadata": {},
   "outputs": [
    {
     "name": "stdout",
     "output_type": "stream",
     "text": [
      "R = 1.0\n",
      "R = 2.0\n",
      "R = 3.0\n",
      "R = 5.0\n",
      "R = 7.0\n",
      "R = 10.0\n"
     ]
    }
   ],
   "source": [
    "Ts= 300.0:-2:50.0\n",
    "mu_B = 0.0\n",
    "\n",
    "Rs = [1.0, 2.0, 3.0, 5.0, 7.0, 10.0]\n",
    "X0 = zeros(5)\n",
    "data = zeros(length(Ts), 6)\n",
    "data[:,1] = Ts\n",
    "for R in Rs\n",
    "    println(\"R = $R\")\n",
    "    X0 = [-0.01, -0.01, -0.20, 0.8, 0.8]\n",
    "\n",
    "    ints_el = get_nodes_sph(256, R)\n",
    "    for (i, T) in enumerate(Ts)\n",
    "\n",
    "        X0 = Tmu(T/hc, mu_B/hc, X0, ints_el)\n",
    "        data[i,2:end] = X0\n",
    "    end\n",
    "    df = DataFrame(data, [:T, :phi_u, :phi_d, :phi_s, :Phi1, :Phi2])\n",
    "    CSV.write(\"PNJL_FV_R$(R).csv\", df)\n",
    "end\n"
   ]
  },
  {
   "cell_type": "code",
   "execution_count": 22,
   "id": "0af76f9f",
   "metadata": {},
   "outputs": [
    {
     "name": "stdout",
     "output_type": "stream",
     "text": [
      "a=1.0fm\n",
      "a=2.0fm\n",
      "a=3.0fm\n",
      "a=5.0fm\n",
      "a=7.0fm\n",
      "a=10.0fm\n"
     ]
    }
   ],
   "source": [
    "Ts= 300.0:-2:50.0\n",
    "mu_B = 0.0\n",
    "\n",
    "phi = X0[1:3]\n",
    "Phi1 = X0[4]\n",
    "Phi2 = X0[5]\n",
    "\n",
    "as = [1.0, 2.0, 3.0, 5.0, 7.0, 10.0]\n",
    "\n",
    "data = zeros(length(Ts), 6)\n",
    "data[:,1] = Ts\n",
    "for a in as\n",
    "    println(\"a=\", a,\"fm\")\n",
    "    X0 = [-0.01, -0.01, -0.20, 0.8, 0.8]\n",
    "    a, b, c = a, a, 30.0\n",
    "    ints_el = get_nodes_el(256, a, b, c)\n",
    "    for (i, T) in enumerate(Ts)\n",
    "\n",
    "        X0 = Tmu(T/hc, mu_B/hc, X0, ints_el)\n",
    "        data[i,2:end] = X0\n",
    "    end\n",
    "    df = DataFrame(data, [:T, :phi_u, :phi_d, :phi_s, :Phi1, :Phi2])\n",
    "    CSV.write(\"el_a=$a.csv\", df)\n",
    "end"
   ]
  },
  {
   "cell_type": "code",
   "execution_count": 47,
   "id": "08de30ce",
   "metadata": {},
   "outputs": [
    {
     "data": {
      "text/plain": [
       "total_mean_curvature_spheroid (generic function with 1 method)"
      ]
     },
     "metadata": {},
     "output_type": "display_data"
    }
   ],
   "source": [
    "include(\"Ep_test.jl\")"
   ]
  },
  {
   "cell_type": "code",
   "execution_count": 56,
   "id": "b2e6b1a0",
   "metadata": {},
   "outputs": [
    {
     "data": {
      "text/plain": [
       "(4.0, 4.0, 8.0)"
      ]
     },
     "metadata": {},
     "output_type": "display_data"
    }
   ],
   "source": [
    "R = 5.0\n",
    "a, b ,c = 4.0, 4.0, 8.0"
   ]
  },
  {
   "cell_type": "code",
   "execution_count": 57,
   "id": "9cdc2c67",
   "metadata": {},
   "outputs": [
    {
     "name": "stdout",
     "output_type": "stream",
     "text": [
      "res1:=138.75012325352108\n",
      "res2:=138.7501232535208\n",
      "diff:=2.8421709430404007e-13\n"
     ]
    }
   ],
   "source": [
    "res1 = total_mean_curvature_ellipsoid(a, b, c)\n",
    "res2 = total_mean_curvature_spheroid(a, c)\n",
    "\n",
    "println(\"res1:=\", res1)\n",
    "println(\"res2:=\", res2)\n",
    "println(\"diff:=\", res1 - res2)"
   ]
  },
  {
   "cell_type": "code",
   "execution_count": 58,
   "id": "c29e6271",
   "metadata": {},
   "outputs": [
    {
     "data": {
      "text/plain": [
       "343.45030660349687"
      ]
     },
     "metadata": {},
     "output_type": "display_data"
    }
   ],
   "source": [
    "S = 4 * pi * ((a^1.6075 * b^1.6075 + a^1.6075 * c^1.6075 + b^1.6075 * c^1.6075)/3)^(1/1.6075)"
   ]
  }
 ],
 "metadata": {
  "kernelspec": {
   "display_name": "Julia 1.12.0",
   "language": "julia",
   "name": "julia-1.12"
  },
  "language_info": {
   "file_extension": ".jl",
   "mimetype": "application/julia",
   "name": "julia",
   "version": "1.12.0"
  }
 },
 "nbformat": 4,
 "nbformat_minor": 5
}
