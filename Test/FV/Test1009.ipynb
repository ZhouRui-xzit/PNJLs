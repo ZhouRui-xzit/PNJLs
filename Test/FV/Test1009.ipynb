{
 "cells": [
  {
   "cell_type": "code",
   "execution_count": 1,
   "id": "c37b8c16",
   "metadata": {},
   "outputs": [],
   "source": [
    "include(\"../../src/Finite_Vol/pnjl_FV.jl\")\n",
    "using Plots \n",
    "using LaTeXStrings\n",
    "using DataFrames, CSV\n",
    "using QuadGK, LinearAlgebra\n"
   ]
  },
  {
   "cell_type": "code",
   "execution_count": 6,
   "id": "8f591ed2",
   "metadata": {},
   "outputs": [
    {
     "name": "stdout",
     "output_type": "stream",
     "text": [
      "res_el:=-33.57031981340026\n",
      "res_sph:=-33.57031981400966\n",
      "diff:=6.093969773246499e-10\n"
     ]
    }
   ],
   "source": [
    "T= 300.0\n",
    "mu_B = 0.0\n",
    "X0 = [-0.01, -0.01, -0.20, 0.8, 0.8]\n",
    "phi = X0[1:3]\n",
    "Phi1 = X0[4]\n",
    "Phi2 = X0[5]\n",
    "R = 1.0\n",
    "a, b ,c = R, R, R\n",
    "\n",
    "ints_el = get_nodes_el(128, a, b, c)\n",
    "ints_sph = get_nodes_sph(128, R)\n",
    "\n",
    "res_el = Omega(phi, Phi1, Phi2, T/hc, mu_B/hc, ints_el)\n",
    "res_sph = Omega(phi, Phi1, Phi2, T/hc, mu_B/hc, ints_sph)\n",
    "\n",
    "println(\"res_el:=\", res_el)\n",
    "println(\"res_sph:=\", res_sph)\n",
    "println(\"diff:=\", res_el - res_sph)\n",
    "#sol = Tmu(T/hc, mu_B/hc, X0, ints)\n",
    "\n",
    "#println(\"sol:=\", sol)"
   ]
  },
  {
   "cell_type": "code",
   "execution_count": 7,
   "id": "bc0d57a0",
   "metadata": {},
   "outputs": [
    {
     "name": "stdout",
     "output_type": "stream",
     "text": [
      "R = 1.0\n",
      "R = 2.0\n",
      "R = 3.0\n",
      "R = 5.0\n",
      "R = 7.0\n",
      "R = 10.0\n"
     ]
    }
   ],
   "source": [
    "Ts= 300.0:-2:50.0\n",
    "mu_B = 0.0\n",
    "\n",
    "Rs = [1.0, 2.0, 3.0, 5.0, 7.0, 10.0]\n",
    "X0 = zeros(5)\n",
    "data = zeros(length(Ts), 6)\n",
    "data[:,1] = Ts\n",
    "for R in Rs\n",
    "    println(\"R = $R\")\n",
    "    X0 = [-0.01, -0.01, -0.20, 0.8, 0.8]\n",
    "\n",
    "    ints_el = get_nodes_sph(256, R)\n",
    "    for (i, T) in enumerate(Ts)\n",
    "\n",
    "        X0 = Tmu(T/hc, mu_B/hc, X0, ints_el)\n",
    "        data[i,2:end] = X0\n",
    "    end\n",
    "    df = DataFrame(data, [:T, :phi_u, :phi_d, :phi_s, :Phi1, :Phi2])\n",
    "    CSV.write(\"PNJL_FV_R$(R).csv\", df)\n",
    "end\n"
   ]
  },
  {
   "cell_type": "code",
   "execution_count": 22,
   "id": "0af76f9f",
   "metadata": {},
   "outputs": [
    {
     "name": "stdout",
     "output_type": "stream",
     "text": [
      "a=1.0fm\n",
      "a=2.0fm\n",
      "a=3.0fm\n",
      "a=5.0fm\n",
      "a=7.0fm\n",
      "a=10.0fm\n"
     ]
    }
   ],
   "source": [
    "Ts= 300.0:-2:50.0\n",
    "mu_B = 0.0\n",
    "\n",
    "phi = X0[1:3]\n",
    "Phi1 = X0[4]\n",
    "Phi2 = X0[5]\n",
    "\n",
    "as = [1.0, 2.0, 3.0, 5.0, 7.0, 10.0]\n",
    "\n",
    "data = zeros(length(Ts), 6)\n",
    "data[:,1] = Ts\n",
    "for a in as\n",
    "    println(\"a=\", a,\"fm\")\n",
    "    X0 = [-0.01, -0.01, -0.20, 0.8, 0.8]\n",
    "    a, b, c = a, a, 30.0\n",
    "    ints_el = get_nodes_el(256, a, b, c)\n",
    "    for (i, T) in enumerate(Ts)\n",
    "\n",
    "        X0 = Tmu(T/hc, mu_B/hc, X0, ints_el)\n",
    "        data[i,2:end] = X0\n",
    "    end\n",
    "    df = DataFrame(data, [:T, :phi_u, :phi_d, :phi_s, :Phi1, :Phi2])\n",
    "    CSV.write(\"el_a=$a.csv\", df)\n",
    "end"
   ]
  },
  {
   "cell_type": "code",
   "execution_count": 6,
   "id": "3d02ad5d",
   "metadata": {},
   "outputs": [],
   "source": [
    "using Peaks"
   ]
  },
  {
   "cell_type": "code",
   "execution_count": 14,
   "id": "54188d92",
   "metadata": {},
   "outputs": [
    {
     "data": {
      "text/plain": [
       "\"PNJL_FV_rho_T50.0_R2.0.csv\""
      ]
     },
     "metadata": {},
     "output_type": "display_data"
    }
   ],
   "source": [
    "rhos = 0.01:0.01:3.0\n",
    "X0 = [-1.8, -1.8, -2.2, 0.038, 0.038, 300/hc, 300/hc, 300/hc]\n",
    "T = 50.0\n",
    "R = 2.0\n",
    "ints_sph = get_nodes_sph(128, R)\n",
    "data = zeros(length(rhos), 9)\n",
    "data[:,1] = rhos\n",
    "for (i, rho) in enumerate(rhos)\n",
    "    #println(\"rho_B = $rho\")\n",
    "    X0 = Trho(T/hc, rho, X0, ints_sph)\n",
    "    data[i,2:end] = X0\n",
    "    data[i, 6:8] .*= hc\n",
    "end\n",
    "df = DataFrame(data, [:rho_B, :phi_u, :phi_d, :phi_s, :Phi1, :Phi2, :mu_u, :mu_d, :mu_s])\n",
    "CSV.write(\"PNJL_FV_rho_T$(T)_R$(R).csv\", df)"
   ]
  }
 ],
 "metadata": {
  "kernelspec": {
   "display_name": "Julia 1.12.0",
   "language": "julia",
   "name": "julia-1.12"
  },
  "language_info": {
   "file_extension": ".jl",
   "mimetype": "application/julia",
   "name": "julia",
   "version": "1.12.0"
  }
 },
 "nbformat": 4,
 "nbformat_minor": 5
}
