{
 "cells": [
  {
   "cell_type": "code",
   "execution_count": 1,
   "id": "db778bab",
   "metadata": {},
   "outputs": [
    {
     "data": {
      "text/plain": [
       "Trho (generic function with 1 method)"
      ]
     },
     "metadata": {},
     "output_type": "display_data"
    }
   ],
   "source": [
    "include(\"../../src/pure/Pnjl_pure.jl\")"
   ]
  },
  {
   "cell_type": "code",
   "execution_count": null,
   "id": "95ff0b9a",
   "metadata": {},
   "outputs": [],
   "source": [
    "T= 300.0\n",
    "mu_B = 0.0\n",
    "X0 = [-0.01, -0.01, -0.20, 0.8, 0.8]\n",
    "phi = X0[1:3]\n",
    "Phi1 = X0[4]\n",
    "Phi2 = X0[5]\n",
    "res = Omega(phi, Phi1, Phi2, T/hc, mu_B/hc,)"
   ]
  }
 ],
 "metadata": {
  "kernelspec": {
   "display_name": "Julia 1.11.7",
   "language": "julia",
   "name": "julia-1.11"
  },
  "language_info": {
   "file_extension": ".jl",
   "mimetype": "application/julia",
   "name": "julia",
   "version": "1.11.7"
  }
 },
 "nbformat": 4,
 "nbformat_minor": 5
}
