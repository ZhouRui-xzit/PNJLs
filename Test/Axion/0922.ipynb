{
 "cells": [
  {
   "cell_type": "code",
   "execution_count": 11,
   "id": "f7594036",
   "metadata": {},
   "outputs": [
    {
     "data": {
      "text/plain": [
       "Trho (generic function with 1 method)"
      ]
     },
     "metadata": {},
     "output_type": "display_data"
    }
   ],
   "source": [
    "include(\"../../src/Axion/pnjl_axion.jl\")"
   ]
  },
  {
   "cell_type": "code",
   "execution_count": 13,
   "id": "0464d4cb",
   "metadata": {},
   "outputs": [
    {
     "data": {
      "text/plain": [
       "11-element Vector{Float64}:\n",
       " 1.7998083956637096\n",
       " 1.7998083956637096\n",
       " 2.2186053318881336\n",
       " 7.106847895136095e-26\n",
       " 7.105546274642481e-26\n",
       " 9.094747794009099e-26\n",
       " 0.025864617746732033\n",
       " 0.07374064112589569\n",
       " 1.4927689691446153\n",
       " 1.4927689691446153\n",
       " 1.4927689691446153"
      ]
     },
     "metadata": {},
     "output_type": "display_data"
    }
   ],
   "source": [
    "\n",
    "\n",
    "rho = 0.1\n",
    "theta = 0.00\n",
    "T = 100.0\n",
    "\n",
    "\n",
    "X0 =  [1.8, 1.8, 2.2, 0.01, 0.01, 0.01, 0.20, 0.20, 300/hc, 300/hc, 300/hc]\n",
    "\n",
    "res = Trho(T/hc, rho, X0, theta)"
   ]
  },
  {
   "cell_type": "code",
   "execution_count": null,
   "id": "4961dde9",
   "metadata": {},
   "outputs": [
    {
     "name": "stdout",
     "output_type": "stream",
     "text": [
      "P = 21.607417471887764\n",
      "P = 21.607914037217906\n",
      "P = 21.6077802644593\n",
      "P = 21.60687355015892\n",
      "P = 21.60512574274822\n",
      "P = 21.602504888462416\n",
      "P = 21.599002385626484\n",
      "P = 21.594628449657183\n",
      "P = 21.589411533502858\n",
      "P = 21.583400484265006\n",
      "P = 21.576669352735895\n",
      "P = 21.56932547088285\n",
      "P = 21.561522027935176\n",
      "P = 21.553477034347086\n",
      "P = 21.545501037394345\n",
      "P = 21.538035237927136\n",
      "P = 21.531696748051857\n",
      "P = 21.527312098377557\n",
      "P = 21.525887583239193\n",
      "P = 21.528436851625756\n",
      "P = 21.535651839371255\n",
      "P = 21.547611602378954\n",
      "P = 21.5638022144128\n",
      "P = 21.583419243312505\n",
      "P = 21.605669217185245\n",
      "P = 21.629911962976685\n",
      "P = 21.65567778547771\n",
      "P = 21.68263520961319\n",
      "P = 21.710552274251157\n",
      "P = 21.73926541135865\n"
     ]
    }
   ],
   "source": [
    "rhos = 0.1:0.1:3.0\n",
    "\n",
    "\n",
    "theta = 0.0\n",
    "T = 5.0\n",
    "# X0: 11 维\n",
    "# pi/3: 1.61781\t1.61781\t2.22585\t-0.87333\t-0.87333\t-0.03414\t0.00383\t0.00383\n",
    "#X0 = [1.61781, 1.61781, 2.22585, -0.87333, -0.87333, -0.03414, 0.00383, 0.00383, 300/hc, 300/hc, 300/hc]\n",
    "X0 = [1.8, 1.8, 2.2, -0.001, -0.001, -0.001, 0.00383, 0.00383, 300/hc, 300/hc, 300/hc]\n",
    "mus = zeros(length(rhos))\n",
    "for (i, rho_B) in enumerate(rhos)\n",
    "    \n",
    "    X0 = Trho(T/hc, rho_B, X0, theta)\n",
    "    phi = X0[1:6]\n",
    "    Phi1 = X0[7]\n",
    "    Phi2 = X0[8]\n",
    "    mu_B = X0[9] * 3 * hc\n",
    "    P = - Omega(phi, Phi1, Phi2, T/hc, mu_B/hc, theta)\n",
    "    println(\"P = $P\")\n",
    "end\n"
   ]
  }
 ],
 "metadata": {
  "kernelspec": {
   "display_name": "Julia 1.12.0",
   "language": "julia",
   "name": "julia-1.12"
  },
  "language_info": {
   "file_extension": ".jl",
   "mimetype": "application/julia",
   "name": "julia",
   "version": "1.12.0"
  }
 },
 "nbformat": 4,
 "nbformat_minor": 5
}
