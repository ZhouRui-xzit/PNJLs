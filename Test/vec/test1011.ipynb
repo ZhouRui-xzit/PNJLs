{
 "cells": [
  {
   "cell_type": "code",
   "execution_count": 1,
   "id": "dd6878b5",
   "metadata": {},
   "outputs": [],
   "source": [
    "include(\"../../src/axion_red_vec/pnjl_vec.jl\")\n",
    "using DataFrames, CSV"
   ]
  },
  {
   "cell_type": "code",
   "execution_count": null,
   "id": "a50d3487",
   "metadata": {},
   "outputs": [
    {
     "data": {
      "text/plain": [
       "\"Test_mu.csv\""
      ]
     },
     "metadata": {},
     "output_type": "display_data"
    }
   ],
   "source": [
    "Ts = 300.0:-2.0:1.0\n",
    "ints = get_nodes(128)\n",
    "theta = 0.0\n",
    "\n",
    "mu_B = 300.0\n",
    "mu_Q = -10.0\n",
    "\n",
    "\n",
    "rho = 0.1\n",
    "ratio = 0.0\n",
    "Gv = ratio * G_f\n",
    "X0 = [0.01, 0.01, 0.20, -0.001, -0.001, -0.001, 0.80, 0.80, rho, mu_Q/hc]\n",
    "data = zeros(length(Ts), length(X0)+1)\n",
    "data[:, 1] = Ts\n",
    "for (i, T) in enumerate(Ts)\n",
    "    X0 = Tmu(X0, mu_B/hc, T/hc, theta, Gv, ints)\n",
    "    data[i, 2:end] = X0\n",
    "end\n",
    "data[:, end] .*= hc\n",
    "df = DataFrame(data, [:T, :sigmau, :sigmad, :sigmas, :etau, :etad, :etas, :Phi1, :Phi2, :rho, :mu_Q])\n",
    "\n",
    "path = \"../../data/axion_red_vec/Test_mu.csv\"\n",
    "CSV.write(path, df)\n"
   ]
  },
  {
   "cell_type": "code",
   "execution_count": 11,
   "id": "5c58e30f",
   "metadata": {},
   "outputs": [
    {
     "data": {
      "text/plain": [
       "\"Test_rho_noGv.csv\""
      ]
     },
     "metadata": {},
     "output_type": "display_data"
    }
   ],
   "source": [
    "T = 50.0\n",
    "ints = get_nodes(256)\n",
    "theta = 0.0\n",
    "rhos = 0.1:0.1:3.0\n",
    "\n",
    "X0 = [1.74, 1.84, 2.20, -0.01, -0.01, -0.01, 0.01, 0.01, 300/hc]\n",
    "\n",
    "data = zeros(length(rhos), length(X0)+1)\n",
    "data[:, 1] = rhos\n",
    "\n",
    "for (i, rho) in enumerate(rhos)\n",
    "   \n",
    "    X0 = Trho(X0, T/hc, rho, theta, ints)\n",
    "    data[i, 2:end] = X0\n",
    "end\n",
    "df = DataFrame(data, [:rho, :sigmau, :sigmad, :sigmas, :etau, :etad, :etas, :Phi1, :Phi2, :mu])\n",
    "CSV.write(\"Test_rho_noGv.csv\", df)"
   ]
  },
  {
   "cell_type": "code",
   "execution_count": 8,
   "id": "a06ca589",
   "metadata": {},
   "outputs": [
    {
     "data": {
      "text/plain": [
       "\"../../data/axion_red_vec/Test_EOS_0.6_pi.csv\""
      ]
     },
     "metadata": {},
     "output_type": "display_data"
    }
   ],
   "source": [
    "T = 5.0\n",
    "ints = get_nodes(800)\n",
    "theta = pi\n",
    "rhos = 0.1:0.1:13.0\n",
    "mu_B = 1000.0/hc\n",
    "mu_Q = -10.0/hc\n",
    "\n",
    "#X0 = [1.84, 1.84, 2.20, -0.01, -0.01, -0.01, 0.01, 0.01, mu_B, mu_Q] # theta=0\n",
    "X0 = [0.43385,0.52539,2.03942,0.95168,1.02742,1.16899,0.00108,0.00123,766.34909/hc,-24.26929/hc]  #theta=pi\n",
    "ratio = 0.6\n",
    "Gv = ratio * G_f\n",
    "data = zeros(length(rhos), length(X0)+1)\n",
    "data_EOS = zeros(length(rhos), 3)\n",
    "\n",
    "data[:, 1] = rhos\n",
    "\n",
    "for (i, rho) in enumerate(rhos)\n",
    "    #println(\"Calculating rho = $rho\")\n",
    "    X0 = Trho(X0, T/hc, rho, theta, Gv, ints)\n",
    "    data[i, 2:end] = X0\n",
    "    data_EOS[i, :] = get_EOS(X0, T/hc, rho, theta, Gv, ints)\n",
    "end\n",
    "\n",
    "data[:, end-1:end] .*= hc\n",
    "\n",
    "path = \"../../data/axion_red_vec/\"\n",
    "\n",
    "df = DataFrame(data, [:rho, :sigmau, :sigmad, :sigmas, :etau, :etad, :etas, :Phi1, :Phi2, :mu_B, :mu_Q])\n",
    "CSV.write(path * \"Test_rho_$(ratio)_pi.csv\", df)\n",
    "\n",
    "df2 = DataFrame(data_EOS, [:rho, :P, :E])\n",
    "CSV.write(path * \"Test_EOS_$(ratio)_pi.csv\", df2)"
   ]
  }
 ],
 "metadata": {
  "kernelspec": {
   "display_name": "Julia 1.12.0",
   "language": "julia",
   "name": "julia-1.12"
  },
  "language_info": {
   "file_extension": ".jl",
   "mimetype": "application/julia",
   "name": "julia",
   "version": "1.12.0"
  }
 },
 "nbformat": 4,
 "nbformat_minor": 5
}
