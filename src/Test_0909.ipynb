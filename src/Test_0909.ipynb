{
 "cells": [
  {
   "cell_type": "code",
   "execution_count": 1,
   "id": "6c86b38f",
   "metadata": {},
   "outputs": [],
   "source": [
    "include(\"TheroFunc.jl\")\n",
    "include(\"constants.jl\")\n",
    "include(\"tools.jl\")\n",
    "include(\"Functions_Quark.jl\")\n",
    "include(\"Rep.jl\")\n",
    "include(\"Phase_Diagram.jl\")\n",
    "include(\"Rep.jl\")\n",
    "\n",
    "using NLsolve\n",
    "using NonlinearSolve\n",
    "using ForwardDiff\n",
    "using BenchmarkTools\n",
    "using DataFrames,Plots\n",
    "using Peaks"
   ]
  },
  {
   "cell_type": "code",
   "execution_count": 1,
   "id": "3cc15288",
   "metadata": {},
   "outputs": [
    {
     "name": "stdout",
     "output_type": "stream",
     "text": [
      "Omega = -23.056767063075924\n",
      "dOmega = [0.08750009182755719, 0.06910910539639133, -0.0838143768796698, -0.1577484461769212, -0.1577484461769212]\n"
     ]
    }
   ],
   "source": [
    "# 2025/9/8 测试解方程\n",
    "\n",
    "\n",
    "\n",
    "include(\"Phase_Diagram.jl\")\n",
    "include(\"constants.jl\")\n",
    "include(\"TheroFunc.jl\")\n",
    "\n",
    "\n",
    "using DataFrames\n",
    "using CSV\n",
    "\n",
    "T = 150.0\n",
    "mu_B = 0.0\n",
    "P, N, W = get_nodes(128, 101)\n",
    "gauss_nodes = [P, N, W]\n",
    "X0 = [-1.8, -1.8, -2.5, 0.01, 0.01]\n",
    "eB = 0.1 * (1000 / hc)^2\n",
    "phi = X0[1:3]\n",
    "Phi1 = X0[4]\n",
    "Phi2 = X0[5]\n",
    "\n",
    "res1 = Omega(phi, Phi1, Phi2, T/hc, mu_B, eB, gauss_nodes) # Omega\n",
    "#res = Tmu(T, mu_B, X0, eB, gauss_nodes)#解方程\n",
    "res2 = function_Quark_core(X0, T/hc, mu_B, eB, gauss_nodes) # dOmega\n",
    "\n",
    "println(\"Omega = \", res1)\n",
    "println(\"dOmega = \", res2)"
   ]
  }
 ],
 "metadata": {
  "kernelspec": {
   "display_name": "Julia 1.11.4",
   "language": "julia",
   "name": "julia-1.11"
  },
  "language_info": {
   "file_extension": ".jl",
   "mimetype": "application/julia",
   "name": "julia",
   "version": "1.11.4"
  }
 },
 "nbformat": 4,
 "nbformat_minor": 5
}
