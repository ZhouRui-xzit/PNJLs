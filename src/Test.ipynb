{
 "cells": [
  {
   "cell_type": "code",
   "execution_count": 3,
   "id": "6c86b38f",
   "metadata": {},
   "outputs": [],
   "source": [
    "include(\"TheroFunc.jl\")\n",
    "include(\"constants.jl\")\n",
    "include(\"Tools.jl\")\n",
    "include(\"Functions_Quark.jl\")\n",
    "include(\"Phase_Diagram.jl\")\n",
    "\n",
    "using Plots\n",
    "\n",
    "\n",
    "using DataFrames\n",
    "using CSV\n",
    "using BenchmarkTools\n",
    "using LaTeXStrings\n",
    "using Peaks\n",
    "using MeshGrid"
   ]
  },
  {
   "cell_type": "code",
   "execution_count": 4,
   "id": "1c6afd46",
   "metadata": {},
   "outputs": [],
   "source": [
    "using FastGaussQuadrature\n",
    "using MeshGrid\n",
    "using QuadGK\n"
   ]
  },
  {
   "cell_type": "code",
   "execution_count": 5,
   "id": "fe5b607e",
   "metadata": {},
   "outputs": [
    {
     "data": {
      "text/plain": [
       "gauleg (generic function with 1 method)"
      ]
     },
     "metadata": {},
     "output_type": "display_data"
    }
   ],
   "source": [
    "function gauleg(a, b, n)\n",
    "    x, w = gausslegendre(n)\n",
    "    x_mapped = (b - a) / 2 .* x .+ (b + a) / 2\n",
    "    w_mapped = (b - a) / 2 .* w\n",
    "    return x_mapped, w_mapped\n",
    "end\n",
    "\n"
   ]
  },
  {
   "cell_type": "code",
   "execution_count": 6,
   "id": "e52b2f6e",
   "metadata": {},
   "outputs": [
    {
     "data": {
      "text/plain": [
       "get_nodes (generic function with 1 method)"
      ]
     },
     "metadata": {},
     "output_type": "display_data"
    }
   ],
   "source": [
    "function get_nodes(p_num, n_num)\n",
    "    p1, w1 = gauleg(0.0, 15.0, p_num)\n",
    "    ns = range(0, n_num-1)\n",
    "    wn = ones(length(ns))\n",
    "\n",
    "\n",
    "    P1, N1 = meshgrid(p1, ns)\n",
    "    W1, WN = meshgrid(w1, wn)\n",
    "    Alpha = ones(n_num)\n",
    "    for i in 2:n_num\n",
    "        Alpha[i] = 2\n",
    "    end\n",
    "    W = W1 .* WN .* Alpha\n",
    "    ints = [P1, N1, W]\n",
    "    return ints\n",
    "end"
   ]
  },
  {
   "cell_type": "code",
   "execution_count": 7,
   "id": "91343677",
   "metadata": {},
   "outputs": [
    {
     "data": {
      "text/plain": [
       "0.3333333333333333"
      ]
     },
     "metadata": {},
     "output_type": "display_data"
    }
   ],
   "source": [
    "mass1 = 1.0\n",
    "mass2 = 1.0\n",
    "mass3 = 2.0\n",
    "\n",
    "eB = 0.1\n",
    "qf1 = 2/3\n",
    "qf2 = 1/3\n",
    "qf3 = 1/3"
   ]
  },
  {
   "cell_type": "code",
   "execution_count": null,
   "id": "ef652290",
   "metadata": {},
   "outputs": [
    {
     "name": "stdout",
     "output_type": "stream",
     "text": [
      "1.0732037480920553e-10\n"
     ]
    }
   ],
   "source": [
    "\n",
    "\n",
    "P, N, W = get_nodes(128, 100)\n",
    "\n",
    "pu = (2 .*N.*qf1.*eB .+ P.^2).^0.5\n",
    "pd = (2 .*N.*qf2.*eB .+ P.^2).^0.5\n",
    "ps = (2 .*N.*qf3.*eB .+ P.^2).^0.5\n",
    "\n",
    "Eu_n = (pu.^2 .+ mass1^2).^0.5 .* Lambda_f^(20) ./(Lambda_f^(20) .+ pu.^(20))\n",
    "Ed_n = (pd.^2 .+ mass2^2).^0.5 .* Lambda_f^(20) ./(Lambda_f^(20) .+ pd.^(20))\n",
    "Es_n = (ps.^2 .+ mass3^2).^0.5 .* Lambda_f^(20) ./(Lambda_f^(20) .+ ps.^(20))\n",
    "\n",
    "Es = sum(W .* (Eu_n .+ Ed_n .+ Es_n))\n",
    "\n"
   ]
  },
  {
   "cell_type": "code",
   "execution_count": 18,
   "id": "01492c61",
   "metadata": {},
   "outputs": [
    {
     "data": {
      "text/plain": [
       "3-element Vector{Matrix{Float64}}:\n",
       " [1.0000008624311267 1.000023936341151 … 2.2461148681919604e-13 2.2302146326869131e-13; 1.0645821049577766 1.0646037791538145 … 2.2334947906799595e-13 2.2176932305924929e-13; … ; 0.12312476293947465 0.12312075925356451 … 1.3130080295808434e-13 1.3042220757357572e-13; 0.11211955787960463 0.11211593695740864 … 1.3060348949632628e-13 1.2973004806946952e-13]\n",
       " [1.0000008624311267 1.000023936341151 … 2.2461148681919604e-13 2.2302146326869131e-13; 1.0327963940340148 1.032818735268642 … 2.2397950053906903e-13 2.2239441916920392e-13; … ; 2.667933160202563 2.66793606148851 … 1.7108138818063422e-13 1.6990438593190236e-13; 2.6717280429882577 2.671730388880164 … 1.7061359662210344e-13 1.6944014964393474e-13]\n",
       " [2.0000004312157027 2.000011968278003 … 2.260987174535841e-13 2.2449707068105746e-13; 2.0165982226337658 2.016609664739787 … 2.2546211026263713e-13 2.2386544520363634e-13; … ; 3.154744940865584 3.154745619488962 … 1.7218242363909045e-13 1.7099705831276047e-13; 3.1552833916055154 3.1552834508613326 … 1.7171130751069038e-13 1.7052952509819004e-13]"
      ]
     },
     "metadata": {},
     "output_type": "display_data"
    }
   ],
   "source": [
    "masses = [mass1, mass2, mass3]\n",
    "qf = [qf1, qf2, qf3]\n",
    "\n",
    "masses_col = reshape(masses, 3, 1)\n",
    "# 计算三种夸克的动量\n",
    "p_array = [(2 .* N .* qf[i] .* eB .+ P.^2).^0.5 for i in 1:3]\n",
    "\n",
    "# 计算能量\n",
    "E = [sqrt.(p.^2 .+ masses_col[i]^2) .* \n",
    "        Lambda_f^(20) ./ (Lambda_f^(20) .+ p.^(20)) \n",
    "        for (i, p) in enumerate(p_array)]\n"
   ]
  },
  {
   "cell_type": "code",
   "execution_count": 3,
   "id": "3e7c4ac1",
   "metadata": {},
   "outputs": [
    {
     "data": {
      "text/plain": [
       "-0.5492579230794753"
      ]
     },
     "metadata": {},
     "output_type": "display_data"
    }
   ],
   "source": [
    "# 2025/9/8 测试Pressure \n",
    "# 测试Omega函数的脚本\n",
    "include(\"TheroFunc.jl\")  # 已经包含了constants.jl和tools.jl\n",
    "using BenchmarkTools\n",
    "\n",
    "function test_omega()\n",
    "    # 设置测试参数\n",
    "    phi = [0.1, 0.1, 0.1]       # 手征凝聚参数 [phi_u, phi_d, phi_s]\n",
    "    Phi1 = 0.5                  # Polyakov loop 参数\n",
    "    Phi2 = 0.5                  # 共轭 Polyakov loop 参数\n",
    "    T = 1.2                     # 温度 (GeV)\n",
    "    mu_B = 0.0                  # 重子化学势 (GeV)\n",
    "    eB = 0.1                    # 磁场强度 (GeV^2)\n",
    "    \n",
    "    # 获取高斯积分节点\n",
    "    P, N, W = get_nodes(128, 1)\n",
    "    gauss_nodes = [P, N, W]\n",
    "    \n",
    "    # 计算热力学势\n",
    "    result = Omega(phi, Phi1, Phi2, T, mu_B, eB, gauss_nodes)\n",
    "\n",
    "    return result\n",
    "end\n",
    "# 运行测试\n",
    "test_omega()\n",
    "\n"
   ]
  },
  {
   "cell_type": "code",
   "execution_count": 19,
   "id": "7a60d8a1",
   "metadata": {},
   "outputs": [
    {
     "data": {
      "text/plain": [
       "-22.18930498349269"
      ]
     },
     "metadata": {},
     "output_type": "display_data"
    },
    {
     "name": "stdout",
     "output_type": "stream",
     "text": [
      "chi = 5.224891334506841, term1 = -14.098713772944715, term2=-7.6050014176275615, U = -5.7104811274272524\n"
     ]
    }
   ],
   "source": [
    "# 2025/9/8 测试解方程\n",
    "\n",
    "\n",
    "\n",
    "include(\"Phase_Diagram.jl\")\n",
    "include(\"constants.jl\")\n",
    "include(\"TheroFunc.jl\")\n",
    "\n",
    "\n",
    "using DataFrames\n",
    "using CSV\n",
    "\n",
    "T = 350.0\n",
    "mu_B = 0.0\n",
    "P, N, W = get_nodes(64, 101)\n",
    "gauss_nodes = [P, N, W]\n",
    "X0 = [-1.5, -1.5, -2.5, 0.54, 0.54]\n",
    "eB = 0.1 * (1000 / hc)^2\n",
    "phi = X0[1:3]\n",
    "Phi1 = X0[4]\n",
    "Phi2 = X0[5]\n",
    "\n",
    "res1 = Omega(phi, Phi1, Phi2, T/hc, mu_B, eB, gauss_nodes)\n",
    "#res = Tmu(T, mu_B, X0, eB, gauss_nodes)\n",
    "#res2 = function_Quark_core(X0, T/hc, mu_B, eB, gauss_nodes)\n"
   ]
  },
  {
   "cell_type": "code",
   "execution_count": 1,
   "id": "841fe3ea",
   "metadata": {},
   "outputs": [
    {
     "data": {
      "text/plain": [
       "\"phase_diagram_eB_100.0_muB_0.0.csv\""
      ]
     },
     "metadata": {},
     "output_type": "display_data"
    }
   ],
   "source": [
    "# 2025/9/8 测试解方程\n",
    "\n",
    "\n",
    "\n",
    "include(\"Phase_Diagram.jl\")\n",
    "include(\"constants.jl\")\n",
    "\n",
    "using DataFrames\n",
    "using CSV\n",
    "\n",
    "T = 50.0:2.0:300.0\n",
    "mu_B = 0.0\n",
    "P, N, W = get_nodes(128, 100)\n",
    "gauss_nodes = [P, N, W]\n",
    "X0 = [-1.8, -1.8, -2.5, 0.01, 0.01]\n",
    "eB = 0.1 * (1000 / hc)^2\n",
    "\n",
    "\n",
    "Ts = T \n",
    "my_data = DataFrame(T=Float64[], phi_u=Float64[], phi_d=Float64[], phi_s=Float64[], Phi1=Float64[], Phi2=Float64[])\n",
    "\n",
    "for (i,T) in enumerate(Ts)\n",
    "    result = Tmu(T, mu_B, X0, eB, gauss_nodes)\n",
    "    push!(my_data, (T, result...))\n",
    "    X0 = result  # 使用上一次的结果作为下一次的初始猜测\n",
    "end\n",
    "CSV.write(\"phase_diagram_eB_$(eB*hc^2/1000)_muB_$(mu_B).csv\", my_data)\n"
   ]
  }
 ],
 "metadata": {
  "kernelspec": {
   "display_name": "Julia 1.11.4",
   "language": "julia",
   "name": "julia-1.11"
  },
  "language_info": {
   "file_extension": ".jl",
   "mimetype": "application/julia",
   "name": "julia",
   "version": "1.11.4"
  }
 },
 "nbformat": 4,
 "nbformat_minor": 5
}
